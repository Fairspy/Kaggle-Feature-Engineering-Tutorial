{
 "cells": [
  {
   "cell_type": "markdown",
   "id": "b8f4fcf4",
   "metadata": {
    "papermill": {
     "duration": 0.007899,
     "end_time": "2022-06-28T17:54:06.725340",
     "exception": false,
     "start_time": "2022-06-28T17:54:06.717441",
     "status": "completed"
    },
    "tags": []
   },
   "source": [
    "**This notebook is an exercise in the [Feature Engineering](https://www.kaggle.com/learn/feature-engineering) course.  You can reference the tutorial at [this link](https://www.kaggle.com/ryanholbrook/target-encoding).**\n",
    "\n",
    "---\n"
   ]
  },
  {
   "cell_type": "markdown",
   "id": "58773a98",
   "metadata": {
    "papermill": {
     "duration": 0.00663,
     "end_time": "2022-06-28T17:54:06.739050",
     "exception": false,
     "start_time": "2022-06-28T17:54:06.732420",
     "status": "completed"
    },
    "tags": []
   },
   "source": [
    "# Introduction #\n",
    "\n",
    "In this exercise, you'll apply target encoding to features in the [*Ames*](https://www.kaggle.com/c/house-prices-advanced-regression-techniques/data) dataset.\n",
    "\n",
    "Run this cell to set everything up!"
   ]
  },
  {
   "cell_type": "code",
   "execution_count": 1,
   "id": "ac14a809",
   "metadata": {
    "execution": {
     "iopub.execute_input": "2022-06-28T17:54:06.754711Z",
     "iopub.status.busy": "2022-06-28T17:54:06.754255Z",
     "iopub.status.idle": "2022-06-28T17:54:08.527504Z",
     "shell.execute_reply": "2022-06-28T17:54:08.526245Z"
    },
    "papermill": {
     "duration": 1.784522,
     "end_time": "2022-06-28T17:54:08.530435",
     "exception": false,
     "start_time": "2022-06-28T17:54:06.745913",
     "status": "completed"
    },
    "tags": []
   },
   "outputs": [],
   "source": [
    "# Setup feedback system\n",
    "from learntools.core import binder\n",
    "binder.bind(globals())\n",
    "from learntools.feature_engineering_new.ex6 import *\n",
    "\n",
    "import matplotlib.pyplot as plt\n",
    "import numpy as np\n",
    "import pandas as pd\n",
    "import seaborn as sns\n",
    "import warnings\n",
    "from category_encoders import MEstimateEncoder\n",
    "from sklearn.model_selection import cross_val_score\n",
    "from xgboost import XGBRegressor\n",
    "\n",
    "# Set Matplotlib defaults\n",
    "plt.style.use(\"seaborn-whitegrid\")\n",
    "plt.rc(\"figure\", autolayout=True)\n",
    "plt.rc(\n",
    "    \"axes\",\n",
    "    labelweight=\"bold\",\n",
    "    labelsize=\"large\",\n",
    "    titleweight=\"bold\",\n",
    "    titlesize=14,\n",
    "    titlepad=10,\n",
    ")\n",
    "warnings.filterwarnings('ignore')\n",
    "\n",
    "\n",
    "def score_dataset(X, y, model=XGBRegressor()):\n",
    "    # Label encoding for categoricals\n",
    "    for colname in X.select_dtypes([\"category\", \"object\"]):\n",
    "        X[colname], _ = X[colname].factorize()\n",
    "    # Metric for Housing competition is RMSLE (Root Mean Squared Log Error)\n",
    "    score = cross_val_score(\n",
    "        model, X, y, cv=5, scoring=\"neg_mean_squared_log_error\",\n",
    "    )\n",
    "    score = -1 * score.mean()\n",
    "    score = np.sqrt(score)\n",
    "    return score\n",
    "\n",
    "\n",
    "df = pd.read_csv(\"../input/fe-course-data/ames.csv\")"
   ]
  },
  {
   "cell_type": "markdown",
   "id": "d551df75",
   "metadata": {
    "papermill": {
     "duration": 0.006757,
     "end_time": "2022-06-28T17:54:08.544032",
     "exception": false,
     "start_time": "2022-06-28T17:54:08.537275",
     "status": "completed"
    },
    "tags": []
   },
   "source": [
    "-------------------------------------------------------------------------------\n",
    "\n",
    "First you'll need to choose which features you want to apply a target encoding to. Categorical features with a large number of categories are often good candidates. Run this cell to see how many categories each categorical feature in the *Ames* dataset has."
   ]
  },
  {
   "cell_type": "code",
   "execution_count": 2,
   "id": "89d8aadc",
   "metadata": {
    "execution": {
     "iopub.execute_input": "2022-06-28T17:54:08.559544Z",
     "iopub.status.busy": "2022-06-28T17:54:08.559152Z",
     "iopub.status.idle": "2022-06-28T17:54:08.596586Z",
     "shell.execute_reply": "2022-06-28T17:54:08.595321Z"
    },
    "papermill": {
     "duration": 0.049578,
     "end_time": "2022-06-28T17:54:08.600556",
     "exception": false,
     "start_time": "2022-06-28T17:54:08.550978",
     "status": "completed"
    },
    "tags": []
   },
   "outputs": [
    {
     "data": {
      "text/plain": [
       "MSSubClass       16\n",
       "MSZoning          7\n",
       "Street            2\n",
       "Alley             3\n",
       "LotShape          4\n",
       "LandContour       4\n",
       "Utilities         3\n",
       "LotConfig         5\n",
       "LandSlope         3\n",
       "Neighborhood     28\n",
       "Condition1        9\n",
       "Condition2        8\n",
       "BldgType          5\n",
       "HouseStyle        8\n",
       "OverallQual      10\n",
       "OverallCond       9\n",
       "RoofStyle         6\n",
       "RoofMatl          8\n",
       "Exterior1st      16\n",
       "Exterior2nd      17\n",
       "MasVnrType        5\n",
       "ExterQual         4\n",
       "ExterCond         5\n",
       "Foundation        6\n",
       "BsmtQual          6\n",
       "BsmtCond          6\n",
       "BsmtExposure      5\n",
       "BsmtFinType1      7\n",
       "BsmtFinType2      7\n",
       "Heating           6\n",
       "HeatingQC         5\n",
       "CentralAir        2\n",
       "Electrical        6\n",
       "KitchenQual       5\n",
       "Functional        8\n",
       "FireplaceQu       6\n",
       "GarageType        7\n",
       "GarageFinish      4\n",
       "GarageQual        6\n",
       "GarageCond        6\n",
       "PavedDrive        3\n",
       "PoolQC            5\n",
       "Fence             5\n",
       "MiscFeature       6\n",
       "SaleType         10\n",
       "SaleCondition     6\n",
       "dtype: int64"
      ]
     },
     "execution_count": 2,
     "metadata": {},
     "output_type": "execute_result"
    }
   ],
   "source": [
    "df.select_dtypes([\"object\"]).nunique()"
   ]
  },
  {
   "cell_type": "markdown",
   "id": "bd1c7c1a",
   "metadata": {
    "papermill": {
     "duration": 0.006605,
     "end_time": "2022-06-28T17:54:08.614221",
     "exception": false,
     "start_time": "2022-06-28T17:54:08.607616",
     "status": "completed"
    },
    "tags": []
   },
   "source": [
    "We talked about how the M-estimate encoding uses smoothing to improve estimates for rare categories. To see how many times a category occurs in the dataset, you can use the `value_counts` method. This cell shows the counts for `SaleType`, but you might want to consider others as well."
   ]
  },
  {
   "cell_type": "code",
   "execution_count": 3,
   "id": "818ea6c6",
   "metadata": {
    "execution": {
     "iopub.execute_input": "2022-06-28T17:54:08.630958Z",
     "iopub.status.busy": "2022-06-28T17:54:08.629966Z",
     "iopub.status.idle": "2022-06-28T17:54:08.642594Z",
     "shell.execute_reply": "2022-06-28T17:54:08.641568Z"
    },
    "papermill": {
     "duration": 0.023636,
     "end_time": "2022-06-28T17:54:08.645010",
     "exception": false,
     "start_time": "2022-06-28T17:54:08.621374",
     "status": "completed"
    },
    "tags": []
   },
   "outputs": [
    {
     "data": {
      "text/plain": [
       "WD       2536\n",
       "New       239\n",
       "COD        87\n",
       "ConLD      26\n",
       "CWD        12\n",
       "ConLI       9\n",
       "ConLw       8\n",
       "Oth         7\n",
       "Con         5\n",
       "VWD         1\n",
       "Name: SaleType, dtype: int64"
      ]
     },
     "execution_count": 3,
     "metadata": {},
     "output_type": "execute_result"
    }
   ],
   "source": [
    "df[\"SaleType\"].value_counts()"
   ]
  },
  {
   "cell_type": "markdown",
   "id": "34ebe033",
   "metadata": {
    "papermill": {
     "duration": 0.006773,
     "end_time": "2022-06-28T17:54:08.659471",
     "exception": false,
     "start_time": "2022-06-28T17:54:08.652698",
     "status": "completed"
    },
    "tags": []
   },
   "source": [
    "# 1) Choose Features for Encoding\n",
    "\n",
    "Which features did you identify for target encoding? After you've thought about your answer, run the next cell for some discussion."
   ]
  },
  {
   "cell_type": "code",
   "execution_count": 4,
   "id": "cce2a1d2",
   "metadata": {
    "execution": {
     "iopub.execute_input": "2022-06-28T17:54:08.676509Z",
     "iopub.status.busy": "2022-06-28T17:54:08.675732Z",
     "iopub.status.idle": "2022-06-28T17:54:08.685343Z",
     "shell.execute_reply": "2022-06-28T17:54:08.684498Z"
    },
    "papermill": {
     "duration": 0.020646,
     "end_time": "2022-06-28T17:54:08.687538",
     "exception": false,
     "start_time": "2022-06-28T17:54:08.666892",
     "status": "completed"
    },
    "tags": []
   },
   "outputs": [
    {
     "data": {
      "application/javascript": [
       "parent.postMessage({\"jupyterEvent\": \"custom.exercise_interaction\", \"data\": {\"outcomeType\": 1, \"valueTowardsCompletion\": 0.3333333333333333, \"interactionType\": 1, \"questionType\": 4, \"questionId\": \"1_Q1\", \"learnToolsVersion\": \"0.3.4\", \"failureMessage\": \"\", \"exceptionClass\": \"\", \"trace\": \"\"}}, \"*\")"
      ],
      "text/plain": [
       "<IPython.core.display.Javascript object>"
      ]
     },
     "metadata": {},
     "output_type": "display_data"
    },
    {
     "data": {
      "text/markdown": [
       "<span style=\"color:#33cc33\">Correct:</span> \n",
       "\n",
       " The `Neighborhood` feature looks promising. It has the most categories of any feature, and several categories are rare. Others that could be worth considering are `SaleType`, `MSSubClass`, `Exterior1st`, `Exterior2nd`. In fact, almost any of the nominal features would be worth trying because of the prevalence of rare categories."
      ],
      "text/plain": [
       "Correct: \n",
       "\n",
       " The `Neighborhood` feature looks promising. It has the most categories of any feature, and several categories are rare. Others that could be worth considering are `SaleType`, `MSSubClass`, `Exterior1st`, `Exterior2nd`. In fact, almost any of the nominal features would be worth trying because of the prevalence of rare categories."
      ]
     },
     "metadata": {},
     "output_type": "display_data"
    }
   ],
   "source": [
    "# View the solution (Run this cell to receive credit!)\n",
    "q_1.check()"
   ]
  },
  {
   "cell_type": "markdown",
   "id": "6c666d88",
   "metadata": {
    "papermill": {
     "duration": 0.007284,
     "end_time": "2022-06-28T17:54:08.702275",
     "exception": false,
     "start_time": "2022-06-28T17:54:08.694991",
     "status": "completed"
    },
    "tags": []
   },
   "source": [
    "-------------------------------------------------------------------------------\n",
    "\n",
    "Now you'll apply a target encoding to your choice of feature. As we discussed in the tutorial, to avoid overfitting, we need to fit the encoder on data heldout from the training set. Run this cell to create the encoding and training splits:"
   ]
  },
  {
   "cell_type": "code",
   "execution_count": 5,
   "id": "86ae4130",
   "metadata": {
    "execution": {
     "iopub.execute_input": "2022-06-28T17:54:08.719645Z",
     "iopub.status.busy": "2022-06-28T17:54:08.718857Z",
     "iopub.status.idle": "2022-06-28T17:54:08.732559Z",
     "shell.execute_reply": "2022-06-28T17:54:08.731704Z"
    },
    "lines_to_next_cell": 2,
    "papermill": {
     "duration": 0.025314,
     "end_time": "2022-06-28T17:54:08.735131",
     "exception": false,
     "start_time": "2022-06-28T17:54:08.709817",
     "status": "completed"
    },
    "tags": []
   },
   "outputs": [],
   "source": [
    "# Encoding split\n",
    "X_encode = df.sample(frac=0.20, random_state=0)\n",
    "y_encode = X_encode.pop(\"SalePrice\")\n",
    "\n",
    "# Training split\n",
    "X_pretrain = df.drop(X_encode.index)\n",
    "y_train = X_pretrain.pop(\"SalePrice\")"
   ]
  },
  {
   "cell_type": "markdown",
   "id": "ab2b8c79",
   "metadata": {
    "papermill": {
     "duration": 0.007329,
     "end_time": "2022-06-28T17:54:08.749967",
     "exception": false,
     "start_time": "2022-06-28T17:54:08.742638",
     "status": "completed"
    },
    "tags": []
   },
   "source": [
    "# 2) Apply M-Estimate Encoding\n",
    "\n",
    "Apply a target encoding to your choice of categorical features. Also choose a value for the smoothing parameter `m` (any value is okay for a correct answer)."
   ]
  },
  {
   "cell_type": "code",
   "execution_count": 6,
   "id": "762ea567",
   "metadata": {
    "execution": {
     "iopub.execute_input": "2022-06-28T17:54:08.767012Z",
     "iopub.status.busy": "2022-06-28T17:54:08.766565Z",
     "iopub.status.idle": "2022-06-28T17:54:08.848148Z",
     "shell.execute_reply": "2022-06-28T17:54:08.847064Z"
    },
    "lines_to_next_cell": 0,
    "papermill": {
     "duration": 0.093719,
     "end_time": "2022-06-28T17:54:08.851135",
     "exception": false,
     "start_time": "2022-06-28T17:54:08.757416",
     "status": "completed"
    },
    "tags": []
   },
   "outputs": [
    {
     "data": {
      "application/javascript": [
       "parent.postMessage({\"jupyterEvent\": \"custom.exercise_interaction\", \"data\": {\"outcomeType\": 1, \"valueTowardsCompletion\": 0.3333333333333333, \"interactionType\": 1, \"questionType\": 2, \"questionId\": \"2_Q2\", \"learnToolsVersion\": \"0.3.4\", \"failureMessage\": \"\", \"exceptionClass\": \"\", \"trace\": \"\"}}, \"*\")"
      ],
      "text/plain": [
       "<IPython.core.display.Javascript object>"
      ]
     },
     "metadata": {},
     "output_type": "display_data"
    },
    {
     "data": {
      "text/markdown": [
       "<span style=\"color:#33cc33\">Correct</span>"
      ],
      "text/plain": [
       "Correct"
      ]
     },
     "metadata": {},
     "output_type": "display_data"
    }
   ],
   "source": [
    "# YOUR CODE HERE: Create the MEstimateEncoder\n",
    "# Choose a set of features to encode and a value for m\n",
    "encoder = MEstimateEncoder(cols=[\"Neighborhood\"], m=7.0)\n",
    "\n",
    "\n",
    "# Fit the encoder on the encoding split\n",
    "encoder.fit(X_encode, y_encode)\n",
    "\n",
    "# Encode the training split\n",
    "X_train = encoder.transform(X_pretrain, y_train)\n",
    "\n",
    "\n",
    "# Check your answer\n",
    "q_2.check()"
   ]
  },
  {
   "cell_type": "code",
   "execution_count": 7,
   "id": "c7718a71",
   "metadata": {
    "execution": {
     "iopub.execute_input": "2022-06-28T17:54:08.868618Z",
     "iopub.status.busy": "2022-06-28T17:54:08.867859Z",
     "iopub.status.idle": "2022-06-28T17:54:08.872440Z",
     "shell.execute_reply": "2022-06-28T17:54:08.871502Z"
    },
    "lines_to_next_cell": 0,
    "papermill": {
     "duration": 0.015971,
     "end_time": "2022-06-28T17:54:08.874736",
     "exception": false,
     "start_time": "2022-06-28T17:54:08.858765",
     "status": "completed"
    },
    "tags": []
   },
   "outputs": [],
   "source": [
    "# Lines below will give you a hint or solution code\n",
    "#q_2.hint()\n",
    "#q_2.solution()"
   ]
  },
  {
   "cell_type": "markdown",
   "id": "978a4a4d",
   "metadata": {
    "papermill": {
     "duration": 0.007515,
     "end_time": "2022-06-28T17:54:08.890402",
     "exception": false,
     "start_time": "2022-06-28T17:54:08.882887",
     "status": "completed"
    },
    "tags": []
   },
   "source": [
    "If you'd like to see how the encoded feature compares to the target, you can run this cell:"
   ]
  },
  {
   "cell_type": "code",
   "execution_count": 8,
   "id": "af41d94b",
   "metadata": {
    "execution": {
     "iopub.execute_input": "2022-06-28T17:54:08.908857Z",
     "iopub.status.busy": "2022-06-28T17:54:08.908203Z",
     "iopub.status.idle": "2022-06-28T17:54:09.241790Z",
     "shell.execute_reply": "2022-06-28T17:54:09.240638Z"
    },
    "papermill": {
     "duration": 0.346299,
     "end_time": "2022-06-28T17:54:09.244483",
     "exception": false,
     "start_time": "2022-06-28T17:54:08.898184",
     "status": "completed"
    },
    "tags": []
   },
   "outputs": [
    {
     "data": {
      "image/png": "[encoded data removed]",
      "text/plain": [
       "<Figure size 540x360 with 1 Axes>"
      ]
     },
     "metadata": {},
     "output_type": "display_data"
    }
   ],
   "source": [
    "feature = encoder.cols\n",
    "\n",
    "plt.figure(dpi=90)\n",
    "ax = sns.distplot(y_train, kde=True, hist=False)\n",
    "ax = sns.distplot(X_train[feature], color='r', ax=ax, hist=True, kde=False, norm_hist=True)\n",
    "ax.set_xlabel(\"SalePrice\");"
   ]
  },
  {
   "cell_type": "markdown",
   "id": "cf561bbc",
   "metadata": {
    "papermill": {
     "duration": 0.008136,
     "end_time": "2022-06-28T17:54:09.261157",
     "exception": false,
     "start_time": "2022-06-28T17:54:09.253021",
     "status": "completed"
    },
    "tags": []
   },
   "source": [
    "From the distribution plots, does it seem like the encoding is informative?\n",
    "\n",
    "And this cell will show you the score of the encoded set compared to the original set:"
   ]
  },
  {
   "cell_type": "code",
   "execution_count": 9,
   "id": "72ae589d",
   "metadata": {
    "execution": {
     "iopub.execute_input": "2022-06-28T17:54:09.279580Z",
     "iopub.status.busy": "2022-06-28T17:54:09.279183Z",
     "iopub.status.idle": "2022-06-28T17:54:17.837090Z",
     "shell.execute_reply": "2022-06-28T17:54:17.836198Z"
    },
    "papermill": {
     "duration": 8.570786,
     "end_time": "2022-06-28T17:54:17.840214",
     "exception": false,
     "start_time": "2022-06-28T17:54:09.269428",
     "status": "completed"
    },
    "tags": []
   },
   "outputs": [
    {
     "name": "stdout",
     "output_type": "stream",
     "text": [
      "Baseline Score: 0.1428 RMSLE\n",
      "Score with Encoding: 0.1398 RMSLE\n"
     ]
    }
   ],
   "source": [
    "X = df.copy()\n",
    "y = X.pop(\"SalePrice\")\n",
    "score_base = score_dataset(X, y)\n",
    "score_new = score_dataset(X_train, y_train)\n",
    "\n",
    "print(f\"Baseline Score: {score_base:.4f} RMSLE\")\n",
    "print(f\"Score with Encoding: {score_new:.4f} RMSLE\")"
   ]
  },
  {
   "cell_type": "markdown",
   "id": "723a4738",
   "metadata": {
    "papermill": {
     "duration": 0.008396,
     "end_time": "2022-06-28T17:54:17.859453",
     "exception": false,
     "start_time": "2022-06-28T17:54:17.851057",
     "status": "completed"
    },
    "tags": []
   },
   "source": [
    "Do you think that target encoding was worthwhile in this case? Depending on which feature or features you chose, you may have ended up with a score significantly worse than the baseline. In that case, it's likely the extra information gained by the encoding couldn't make up for the loss of data used for the encoding."
   ]
  },
  {
   "cell_type": "markdown",
   "id": "2d7d8304",
   "metadata": {
    "papermill": {
     "duration": 0.008192,
     "end_time": "2022-06-28T17:54:17.876231",
     "exception": false,
     "start_time": "2022-06-28T17:54:17.868039",
     "status": "completed"
    },
    "tags": []
   },
   "source": [
    "-------------------------------------------------------------------------------\n",
    "\n",
    "In this question, you'll explore the problem of overfitting with target encodings. This will illustrate this importance of training fitting target encoders on data held-out from the training set.\n",
    "\n",
    "So let's see what happens when we fit the encoder and the model on the *same* dataset. To emphasize how dramatic the overfitting can be, we'll mean-encode a feature that should have no relationship with `SalePrice`, a count: `0, 1, 2, 3, 4, 5, ...`."
   ]
  },
  {
   "cell_type": "code",
   "execution_count": 10,
   "id": "4637d9a0",
   "metadata": {
    "execution": {
     "iopub.execute_input": "2022-06-28T17:54:17.894819Z",
     "iopub.status.busy": "2022-06-28T17:54:17.894441Z",
     "iopub.status.idle": "2022-06-28T17:54:21.998786Z",
     "shell.execute_reply": "2022-06-28T17:54:21.997759Z"
    },
    "papermill": {
     "duration": 4.116798,
     "end_time": "2022-06-28T17:54:22.001584",
     "exception": false,
     "start_time": "2022-06-28T17:54:17.884786",
     "status": "completed"
    },
    "tags": []
   },
   "outputs": [
    {
     "name": "stdout",
     "output_type": "stream",
     "text": [
      "Score: 0.0303 RMSLE\n"
     ]
    }
   ],
   "source": [
    "# Try experimenting with the smoothing parameter m\n",
    "# Try 0, 1, 5, 50\n",
    "m = 50\n",
    "\n",
    "X = df.copy()\n",
    "y = X.pop('SalePrice')\n",
    "\n",
    "# Create an uninformative feature\n",
    "X[\"Count\"] = range(len(X))\n",
    "X[\"Count\"][1] = 0  # actually need one duplicate value to circumvent error-checking in MEstimateEncoder\n",
    "\n",
    "# fit and transform on the same dataset\n",
    "encoder = MEstimateEncoder(cols=\"Count\", m=m)\n",
    "X = encoder.fit_transform(X, y)\n",
    "\n",
    "# Results\n",
    "score =  score_dataset(X, y)\n",
    "print(f\"Score: {score:.4f} RMSLE\")"
   ]
  },
  {
   "cell_type": "markdown",
   "id": "f979011d",
   "metadata": {
    "papermill": {
     "duration": 0.008242,
     "end_time": "2022-06-28T17:54:22.019697",
     "exception": false,
     "start_time": "2022-06-28T17:54:22.011455",
     "status": "completed"
    },
    "tags": []
   },
   "source": [
    "Almost a perfect score!"
   ]
  },
  {
   "cell_type": "code",
   "execution_count": 11,
   "id": "667c1b23",
   "metadata": {
    "execution": {
     "iopub.execute_input": "2022-06-28T17:54:22.038916Z",
     "iopub.status.busy": "2022-06-28T17:54:22.037773Z",
     "iopub.status.idle": "2022-06-28T17:54:22.397955Z",
     "shell.execute_reply": "2022-06-28T17:54:22.396983Z"
    },
    "papermill": {
     "duration": 0.372311,
     "end_time": "2022-06-28T17:54:22.400410",
     "exception": false,
     "start_time": "2022-06-28T17:54:22.028099",
     "status": "completed"
    },
    "tags": []
   },
   "outputs": [
    {
     "data": {
      "image/png": "[encoded data removed]",
      "text/plain": [
       "<Figure size 540x360 with 1 Axes>"
      ]
     },
     "metadata": {},
     "output_type": "display_data"
    }
   ],
   "source": [
    "plt.figure(dpi=90)\n",
    "ax = sns.distplot(y, kde=True, hist=False)\n",
    "ax = sns.distplot(X[\"Count\"], color='r', ax=ax, hist=True, kde=False, norm_hist=True)\n",
    "ax.set_xlabel(\"SalePrice\");"
   ]
  },
  {
   "cell_type": "markdown",
   "id": "0d320cf2",
   "metadata": {
    "papermill": {
     "duration": 0.008282,
     "end_time": "2022-06-28T17:54:22.417321",
     "exception": false,
     "start_time": "2022-06-28T17:54:22.409039",
     "status": "completed"
    },
    "tags": []
   },
   "source": [
    "And the distributions are almost exactly the same, too.\n",
    "\n",
    "# 3) Overfitting with Target Encoders\n",
    "\n",
    "Based on your understanding of how mean-encoding works, can you explain how XGBoost was able to get an almost a perfect fit after mean-encoding the count feature?"
   ]
  },
  {
   "cell_type": "code",
   "execution_count": 12,
   "id": "563faae0",
   "metadata": {
    "execution": {
     "iopub.execute_input": "2022-06-28T17:54:22.436525Z",
     "iopub.status.busy": "2022-06-28T17:54:22.435763Z",
     "iopub.status.idle": "2022-06-28T17:54:22.444890Z",
     "shell.execute_reply": "2022-06-28T17:54:22.444041Z"
    },
    "lines_to_next_cell": 0,
    "papermill": {
     "duration": 0.021253,
     "end_time": "2022-06-28T17:54:22.447086",
     "exception": false,
     "start_time": "2022-06-28T17:54:22.425833",
     "status": "completed"
    },
    "tags": []
   },
   "outputs": [
    {
     "data": {
      "application/javascript": [
       "parent.postMessage({\"jupyterEvent\": \"custom.exercise_interaction\", \"data\": {\"outcomeType\": 1, \"valueTowardsCompletion\": 0.3333333333333333, \"interactionType\": 1, \"questionType\": 4, \"questionId\": \"3_Q3\", \"learnToolsVersion\": \"0.3.4\", \"failureMessage\": \"\", \"exceptionClass\": \"\", \"trace\": \"\"}}, \"*\")"
      ],
      "text/plain": [
       "<IPython.core.display.Javascript object>"
      ]
     },
     "metadata": {},
     "output_type": "display_data"
    },
    {
     "data": {
      "text/markdown": [
       "<span style=\"color:#33cc33\">Correct:</span> \n",
       "\n",
       "\n",
       "Since `Count` never has any duplicate values, the mean-encoded `Count` is essentially an exact copy of the target. In other words, mean-encoding turned a completely meaningless feature into a perfect feature.\n",
       "\n",
       "Now, the only reason this worked is because we trained XGBoost on the same set we used to train the encoder. If we had used a hold-out set instead, none of this \"fake\" encoding would have transferred to the training data.\n",
       "\n",
       "The lesson is that when using a target encoder it's very important to use separate data sets for training the encoder and training the model. Otherwise the results can be very disappointing!\n"
      ],
      "text/plain": [
       "Correct: \n",
       "\n",
       "\n",
       "Since `Count` never has any duplicate values, the mean-encoded `Count` is essentially an exact copy of the target. In other words, mean-encoding turned a completely meaningless feature into a perfect feature.\n",
       "\n",
       "Now, the only reason this worked is because we trained XGBoost on the same set we used to train the encoder. If we had used a hold-out set instead, none of this \"fake\" encoding would have transferred to the training data.\n",
       "\n",
       "The lesson is that when using a target encoder it's very important to use separate data sets for training the encoder and training the model. Otherwise the results can be very disappointing!"
      ]
     },
     "metadata": {},
     "output_type": "display_data"
    }
   ],
   "source": [
    "# View the solution (Run this cell to receive credit!)\n",
    "q_3.check()"
   ]
  },
  {
   "cell_type": "code",
   "execution_count": 13,
   "id": "ad20d180",
   "metadata": {
    "execution": {
     "iopub.execute_input": "2022-06-28T17:54:22.466722Z",
     "iopub.status.busy": "2022-06-28T17:54:22.466293Z",
     "iopub.status.idle": "2022-06-28T17:54:22.471117Z",
     "shell.execute_reply": "2022-06-28T17:54:22.469879Z"
    },
    "papermill": {
     "duration": 0.017415,
     "end_time": "2022-06-28T17:54:22.473385",
     "exception": false,
     "start_time": "2022-06-28T17:54:22.455970",
     "status": "completed"
    },
    "tags": []
   },
   "outputs": [],
   "source": [
    "# Uncomment this if you'd like a hint before seeing the answer\n",
    "#q_3.hint()"
   ]
  },
  {
   "cell_type": "markdown",
   "id": "b713fc86",
   "metadata": {
    "papermill": {
     "duration": 0.008635,
     "end_time": "2022-06-28T17:54:22.490974",
     "exception": false,
     "start_time": "2022-06-28T17:54:22.482339",
     "status": "completed"
    },
    "tags": []
   },
   "source": [
    "# The End #\n",
    "\n",
    "That's it for *Feature Engineering*! We hope you enjoyed your time with us.\n",
    "\n",
    "Now, are you ready to try out your new skills? Now would be a great time to join our [Housing Prices](https://www.kaggle.com/c/house-prices-advanced-regression-techniques) Getting Started competition. We've even prepared a [Bonus Lesson](https://www.kaggle.com/ryanholbrook/feature-engineering-for-house-prices) that collects all the work we've done together into a starter notebook.\n",
    "\n",
    "# References #\n",
    "Here are some great resources you might like to consult for more information. They all played a part in shaping this course:\n",
    "- *The Art of Feature Engineering*, a book by Pablo Duboue.\n",
    "- *An Empirical Analysis of Feature Engineering for Predictive Modeling*, an article by Jeff Heaton.\n",
    "- *Feature Engineering for Machine Learning*, a book by Alice Zheng and Amanda Casari. The tutorial on clustering was inspired by this excellent book.\n",
    "- *Feature Engineering and Selection*, a book by Max Kuhn and Kjell Johnson."
   ]
  },
  {
   "cell_type": "markdown",
   "id": "ba4e541e",
   "metadata": {
    "papermill": {
     "duration": 0.008786,
     "end_time": "2022-06-28T17:54:22.508684",
     "exception": false,
     "start_time": "2022-06-28T17:54:22.499898",
     "status": "completed"
    },
    "tags": []
   },
   "source": [
    "---\n",
    "\n",
    "\n",
    "\n",
    "\n",
    "*Have questions or comments? Visit the [course discussion forum](https://www.kaggle.com/learn/feature-engineering/discussion) to chat with other learners.*"
   ]
  }
 ],
 "metadata": {
  "kernelspec": {
   "display_name": "Python 3",
   "language": "python",
   "name": "python3"
  },
  "language_info": {
   "codemirror_mode": {
    "name": "ipython",
    "version": 3
   },
   "file_extension": ".py",
   "mimetype": "text/x-python",
   "name": "python",
   "nbconvert_exporter": "python",
   "pygments_lexer": "ipython3",
   "version": "3.7.12"
  },
  "papermill": {
   "default_parameters": {},
   "duration": 26.881542,
   "end_time": "2022-06-28T17:54:23.339420",
   "environment_variables": {},
   "exception": null,
   "input_path": "__notebook__.ipynb",
   "output_path": "__notebook__.ipynb",
   "parameters": {},
   "start_time": "2022-06-28T17:53:56.457878",
   "version": "2.3.4"
  }
 },
 "nbformat": 4,
 "nbformat_minor": 5
}
