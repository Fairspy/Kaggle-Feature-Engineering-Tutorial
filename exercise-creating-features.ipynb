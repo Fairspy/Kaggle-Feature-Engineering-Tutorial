{
 "cells": [
  {
   "cell_type": "markdown",
   "id": "066fe280",
   "metadata": {
    "papermill": {
     "duration": 0.00746,
     "end_time": "2022-06-28T17:21:40.181639",
     "exception": false,
     "start_time": "2022-06-28T17:21:40.174179",
     "status": "completed"
    },
    "tags": []
   },
   "source": [
    "**This notebook is an exercise in the [Feature Engineering](https://www.kaggle.com/learn/feature-engineering) course.  You can reference the tutorial at [this link](https://www.kaggle.com/ryanholbrook/creating-features).**\n",
    "\n",
    "---\n"
   ]
  },
  {
   "cell_type": "markdown",
   "id": "24cda5e9",
   "metadata": {
    "papermill": {
     "duration": 0.00612,
     "end_time": "2022-06-28T17:21:40.194168",
     "exception": false,
     "start_time": "2022-06-28T17:21:40.188048",
     "status": "completed"
    },
    "tags": []
   },
   "source": [
    "# Introduction #\n",
    "\n",
    "In this exercise you'll start developing the features you identified in Exercise 2 as having the most potential. As you work through this exercise, you might take a moment to look at the data documentation again and consider whether the features we're creating make sense from a real-world perspective, and whether there are any useful combinations that stand out to you.\n",
    "\n",
    "Run this cell to set everything up!"
   ]
  },
  {
   "cell_type": "code",
   "execution_count": 1,
   "id": "01bb59cc",
   "metadata": {
    "execution": {
     "iopub.execute_input": "2022-06-28T17:21:40.210747Z",
     "iopub.status.busy": "2022-06-28T17:21:40.209436Z",
     "iopub.status.idle": "2022-06-28T17:21:41.738649Z",
     "shell.execute_reply": "2022-06-28T17:21:41.737475Z"
    },
    "papermill": {
     "duration": 1.540213,
     "end_time": "2022-06-28T17:21:41.741493",
     "exception": false,
     "start_time": "2022-06-28T17:21:40.201280",
     "status": "completed"
    },
    "tags": []
   },
   "outputs": [],
   "source": [
    "# Setup feedback system\n",
    "from learntools.core import binder\n",
    "binder.bind(globals())\n",
    "from learntools.feature_engineering_new.ex3 import *\n",
    "\n",
    "import numpy as np\n",
    "import pandas as pd\n",
    "from sklearn.model_selection import cross_val_score\n",
    "from xgboost import XGBRegressor\n",
    "\n",
    "\n",
    "def score_dataset(X, y, model=XGBRegressor()):\n",
    "    # Label encoding for categoricals\n",
    "    for colname in X.select_dtypes([\"category\", \"object\"]):\n",
    "        X[colname], _ = X[colname].factorize()\n",
    "    # Metric for Housing competition is RMSLE (Root Mean Squared Log Error)\n",
    "    score = cross_val_score(\n",
    "        model, X, y, cv=5, scoring=\"neg_mean_squared_log_error\",\n",
    "    )\n",
    "    score = -1 * score.mean()\n",
    "    score = np.sqrt(score)\n",
    "    return score\n",
    "\n",
    "\n",
    "# Prepare data\n",
    "df = pd.read_csv(\"../input/fe-course-data/ames.csv\")\n",
    "X = df.copy()\n",
    "y = X.pop(\"SalePrice\")"
   ]
  },
  {
   "cell_type": "markdown",
   "id": "0f6d4310",
   "metadata": {
    "papermill": {
     "duration": 0.005794,
     "end_time": "2022-06-28T17:21:41.753431",
     "exception": false,
     "start_time": "2022-06-28T17:21:41.747637",
     "status": "completed"
    },
    "tags": []
   },
   "source": [
    "-------------------------------------------------------------------------------\n",
    "\n",
    "Let's start with a few mathematical combinations. We'll focus on features describing areas -- having the same units (square-feet) makes it easy to combine them in sensible ways. Since we're using XGBoost (a tree-based model), we'll focus on ratios and sums.\n",
    "\n",
    "# 1) Create Mathematical Transforms\n",
    "\n",
    "Create the following features:\n",
    "\n",
    "- `LivLotRatio`: the ratio of `GrLivArea` to `LotArea`\n",
    "- `Spaciousness`: the sum of `FirstFlrSF` and `SecondFlrSF` divided by `TotRmsAbvGrd`\n",
    "- `TotalOutsideSF`: the sum of `WoodDeckSF`, `OpenPorchSF`, `EnclosedPorch`, `Threeseasonporch`, and `ScreenPorch`"
   ]
  },
  {
   "cell_type": "code",
   "execution_count": 2,
   "id": "040a0560",
   "metadata": {
    "execution": {
     "iopub.execute_input": "2022-06-28T17:21:41.767214Z",
     "iopub.status.busy": "2022-06-28T17:21:41.766763Z",
     "iopub.status.idle": "2022-06-28T17:21:41.793031Z",
     "shell.execute_reply": "2022-06-28T17:21:41.791986Z"
    },
    "lines_to_next_cell": 0,
    "papermill": {
     "duration": 0.037234,
     "end_time": "2022-06-28T17:21:41.796607",
     "exception": false,
     "start_time": "2022-06-28T17:21:41.759373",
     "status": "completed"
    },
    "tags": []
   },
   "outputs": [
    {
     "data": {
      "application/javascript": [
       "parent.postMessage({\"jupyterEvent\": \"custom.exercise_interaction\", \"data\": {\"outcomeType\": 1, \"valueTowardsCompletion\": 0.2, \"interactionType\": 1, \"questionType\": 2, \"questionId\": \"1_Q1\", \"learnToolsVersion\": \"0.3.4\", \"failureMessage\": \"\", \"exceptionClass\": \"\", \"trace\": \"\"}}, \"*\")"
      ],
      "text/plain": [
       "<IPython.core.display.Javascript object>"
      ]
     },
     "metadata": {},
     "output_type": "display_data"
    },
    {
     "data": {
      "text/markdown": [
       "<span style=\"color:#33cc33\">Correct</span>"
      ],
      "text/plain": [
       "Correct"
      ]
     },
     "metadata": {},
     "output_type": "display_data"
    }
   ],
   "source": [
    "# YOUR CODE HERE\n",
    "X_1 = pd.DataFrame()  # dataframe to hold new features\n",
    "\n",
    "X_1[\"LivLotRatio\"] = df.GrLivArea/df.LotArea\n",
    "X_1[\"Spaciousness\"] = (df.FirstFlrSF + df.SecondFlrSF)/df.TotRmsAbvGrd\n",
    "X_1[\"TotalOutsideSF\"] = df.WoodDeckSF + df.OpenPorchSF + df.EnclosedPorch + df.Threeseasonporch +df.ScreenPorch\n",
    "\n",
    "\n",
    "# Check your answer\n",
    "q_1.check()"
   ]
  },
  {
   "cell_type": "code",
   "execution_count": 3,
   "id": "a6302839",
   "metadata": {
    "execution": {
     "iopub.execute_input": "2022-06-28T17:21:41.811884Z",
     "iopub.status.busy": "2022-06-28T17:21:41.811511Z",
     "iopub.status.idle": "2022-06-28T17:21:41.816160Z",
     "shell.execute_reply": "2022-06-28T17:21:41.814962Z"
    },
    "lines_to_next_cell": 0,
    "papermill": {
     "duration": 0.014767,
     "end_time": "2022-06-28T17:21:41.818453",
     "exception": false,
     "start_time": "2022-06-28T17:21:41.803686",
     "status": "completed"
    },
    "tags": []
   },
   "outputs": [],
   "source": [
    "# Lines below will give you a hint or solution code\n",
    "#q_1.hint()\n",
    "#q_1.solution()"
   ]
  },
  {
   "cell_type": "markdown",
   "id": "24756606",
   "metadata": {
    "papermill": {
     "duration": 0.006167,
     "end_time": "2022-06-28T17:21:41.831057",
     "exception": false,
     "start_time": "2022-06-28T17:21:41.824890",
     "status": "completed"
    },
    "tags": []
   },
   "source": [
    "pd.get_dummies(df.Categorical, prefix=\"Cat\")-------------------------------------------------------------------------------\n",
    "\n",
    "If you've discovered an interaction effect between a numeric feature and a categorical feature, you might want to model it explicitly using a one-hot encoding, like so:\n",
    "\n",
    "```\n",
    "# One-hot encode Categorical feature, adding a column prefix \"Cat\"\n",
    "X_new = pd.get_dummies(df.Categorical, prefix=\"Cat\")\n",
    "\n",
    "# Multiply row-by-row\n",
    "X_new = X_new.mul(df.Continuous, axis=0)\n",
    "\n",
    "# Join the new features to the feature set\n",
    "X = X.join(X_new)\n",
    "```\n",
    "\n",
    "# 2) Interaction with a Categorical\n",
    "\n",
    "We discovered an interaction between `BldgType` and `GrLivArea` in Exercise 2. Now create their interaction features."
   ]
  },
  {
   "cell_type": "code",
   "execution_count": 4,
   "id": "5b552c15",
   "metadata": {
    "execution": {
     "iopub.execute_input": "2022-06-28T17:21:41.845401Z",
     "iopub.status.busy": "2022-06-28T17:21:41.845024Z",
     "iopub.status.idle": "2022-06-28T17:21:41.860879Z",
     "shell.execute_reply": "2022-06-28T17:21:41.859793Z"
    },
    "lines_to_next_cell": 0,
    "papermill": {
     "duration": 0.026368,
     "end_time": "2022-06-28T17:21:41.863690",
     "exception": false,
     "start_time": "2022-06-28T17:21:41.837322",
     "status": "completed"
    },
    "tags": []
   },
   "outputs": [
    {
     "data": {
      "application/javascript": [
       "parent.postMessage({\"jupyterEvent\": \"custom.exercise_interaction\", \"data\": {\"outcomeType\": 1, \"valueTowardsCompletion\": 0.2, \"interactionType\": 1, \"questionType\": 2, \"questionId\": \"2_Q2\", \"learnToolsVersion\": \"0.3.4\", \"failureMessage\": \"\", \"exceptionClass\": \"\", \"trace\": \"\"}}, \"*\")"
      ],
      "text/plain": [
       "<IPython.core.display.Javascript object>"
      ]
     },
     "metadata": {},
     "output_type": "display_data"
    },
    {
     "data": {
      "text/markdown": [
       "<span style=\"color:#33cc33\">Correct</span>"
      ],
      "text/plain": [
       "Correct"
      ]
     },
     "metadata": {},
     "output_type": "display_data"
    }
   ],
   "source": [
    "# YOUR CODE HERE\n",
    "# One-hot encode BldgType. Use `prefix=\"Bldg\"` in `get_dummies`\n",
    "X_2 = pd.get_dummies(df.BldgType, prefix=\"Bldg\") \n",
    "# Multiply\n",
    "X_2 = X_2.mul(df.GrLivArea, axis=0)\n",
    "\n",
    "\n",
    "# Check your answer\n",
    "q_2.check()"
   ]
  },
  {
   "cell_type": "code",
   "execution_count": 5,
   "id": "8d72d555",
   "metadata": {
    "execution": {
     "iopub.execute_input": "2022-06-28T17:21:41.879387Z",
     "iopub.status.busy": "2022-06-28T17:21:41.878431Z",
     "iopub.status.idle": "2022-06-28T17:21:41.883340Z",
     "shell.execute_reply": "2022-06-28T17:21:41.882374Z"
    },
    "lines_to_next_cell": 0,
    "papermill": {
     "duration": 0.015351,
     "end_time": "2022-06-28T17:21:41.885762",
     "exception": false,
     "start_time": "2022-06-28T17:21:41.870411",
     "status": "completed"
    },
    "tags": []
   },
   "outputs": [],
   "source": [
    "# Lines below will give you a hint or solution code\n",
    "#q_2.hint()\n",
    "#q_2.solution()"
   ]
  },
  {
   "cell_type": "markdown",
   "id": "acd288be",
   "metadata": {
    "lines_to_next_cell": 0,
    "papermill": {
     "duration": 0.006513,
     "end_time": "2022-06-28T17:21:41.899129",
     "exception": false,
     "start_time": "2022-06-28T17:21:41.892616",
     "status": "completed"
    },
    "tags": []
   },
   "source": [
    "# 3) Count Feature\n",
    "\n",
    "Let's try creating a feature that describes how many kinds of outdoor areas a dwelling has. Create a feature `PorchTypes` that counts how many of the following are greater than 0.0:\n",
    "\n",
    "```\n",
    "WoodDeckSF\n",
    "OpenPorchSF\n",
    "EnclosedPorch\n",
    "Threeseasonporch\n",
    "ScreenPorch\n",
    "```"
   ]
  },
  {
   "cell_type": "code",
   "execution_count": 6,
   "id": "b363335c",
   "metadata": {
    "execution": {
     "iopub.execute_input": "2022-06-28T17:21:41.914852Z",
     "iopub.status.busy": "2022-06-28T17:21:41.913981Z",
     "iopub.status.idle": "2022-06-28T17:21:41.931693Z",
     "shell.execute_reply": "2022-06-28T17:21:41.930727Z"
    },
    "lines_to_next_cell": 0,
    "papermill": {
     "duration": 0.028055,
     "end_time": "2022-06-28T17:21:41.933880",
     "exception": false,
     "start_time": "2022-06-28T17:21:41.905825",
     "status": "completed"
    },
    "tags": []
   },
   "outputs": [
    {
     "data": {
      "application/javascript": [
       "parent.postMessage({\"jupyterEvent\": \"custom.exercise_interaction\", \"data\": {\"outcomeType\": 1, \"valueTowardsCompletion\": 0.2, \"interactionType\": 1, \"questionType\": 2, \"questionId\": \"3_Q3\", \"learnToolsVersion\": \"0.3.4\", \"failureMessage\": \"\", \"exceptionClass\": \"\", \"trace\": \"\"}}, \"*\")"
      ],
      "text/plain": [
       "<IPython.core.display.Javascript object>"
      ]
     },
     "metadata": {},
     "output_type": "display_data"
    },
    {
     "data": {
      "text/markdown": [
       "<span style=\"color:#33cc33\">Correct</span>"
      ],
      "text/plain": [
       "Correct"
      ]
     },
     "metadata": {},
     "output_type": "display_data"
    }
   ],
   "source": [
    "X_3 = pd.DataFrame()\n",
    "\n",
    "# YOUR CODE HERE\n",
    "X_3[\"PorchTypes\"] =  df[[\n",
    "    \"WoodDeckSF\",\n",
    "    \"OpenPorchSF\",\n",
    "    \"EnclosedPorch\",\n",
    "    \"Threeseasonporch\",\n",
    "    \"ScreenPorch\",\n",
    "]].gt(0.0).sum(axis=1)\n",
    "\n",
    "\n",
    "# Check your answer\n",
    "q_3.check()"
   ]
  },
  {
   "cell_type": "code",
   "execution_count": 7,
   "id": "c23f36fa",
   "metadata": {
    "execution": {
     "iopub.execute_input": "2022-06-28T17:21:41.950080Z",
     "iopub.status.busy": "2022-06-28T17:21:41.949343Z",
     "iopub.status.idle": "2022-06-28T17:21:41.953948Z",
     "shell.execute_reply": "2022-06-28T17:21:41.952942Z"
    },
    "lines_to_next_cell": 0,
    "papermill": {
     "duration": 0.015263,
     "end_time": "2022-06-28T17:21:41.956371",
     "exception": false,
     "start_time": "2022-06-28T17:21:41.941108",
     "status": "completed"
    },
    "tags": []
   },
   "outputs": [],
   "source": [
    "# Lines below will give you a hint or solution code\n",
    "#q_3.hint()\n",
    "#q_3.solution()"
   ]
  },
  {
   "cell_type": "markdown",
   "id": "04c03686",
   "metadata": {
    "papermill": {
     "duration": 0.006613,
     "end_time": "2022-06-28T17:21:41.970139",
     "exception": false,
     "start_time": "2022-06-28T17:21:41.963526",
     "status": "completed"
    },
    "tags": []
   },
   "source": [
    "# 4) Break Down a Categorical Feature\n",
    "\n",
    "`MSSubClass` describes the type of a dwelling:"
   ]
  },
  {
   "cell_type": "code",
   "execution_count": 8,
   "id": "27fd127f",
   "metadata": {
    "execution": {
     "iopub.execute_input": "2022-06-28T17:21:41.988788Z",
     "iopub.status.busy": "2022-06-28T17:21:41.988430Z",
     "iopub.status.idle": "2022-06-28T17:21:41.997578Z",
     "shell.execute_reply": "2022-06-28T17:21:41.996163Z"
    },
    "papermill": {
     "duration": 0.020091,
     "end_time": "2022-06-28T17:21:42.000087",
     "exception": false,
     "start_time": "2022-06-28T17:21:41.979996",
     "status": "completed"
    },
    "tags": []
   },
   "outputs": [
    {
     "data": {
      "text/plain": [
       "array(['One_Story_1946_and_Newer_All_Styles', 'Two_Story_1946_and_Newer',\n",
       "       'One_Story_PUD_1946_and_Newer',\n",
       "       'One_and_Half_Story_Finished_All_Ages', 'Split_Foyer',\n",
       "       'Two_Story_PUD_1946_and_Newer', 'Split_or_Multilevel',\n",
       "       'One_Story_1945_and_Older', 'Duplex_All_Styles_and_Ages',\n",
       "       'Two_Family_conversion_All_Styles_and_Ages',\n",
       "       'One_and_Half_Story_Unfinished_All_Ages',\n",
       "       'Two_Story_1945_and_Older', 'Two_and_Half_Story_All_Ages',\n",
       "       'One_Story_with_Finished_Attic_All_Ages',\n",
       "       'PUD_Multilevel_Split_Level_Foyer',\n",
       "       'One_and_Half_Story_PUD_All_Ages'], dtype=object)"
      ]
     },
     "execution_count": 8,
     "metadata": {},
     "output_type": "execute_result"
    }
   ],
   "source": [
    "df.MSSubClass.unique()"
   ]
  },
  {
   "cell_type": "markdown",
   "id": "5d009799",
   "metadata": {
    "papermill": {
     "duration": 0.006921,
     "end_time": "2022-06-28T17:21:42.014176",
     "exception": false,
     "start_time": "2022-06-28T17:21:42.007255",
     "status": "completed"
    },
    "tags": []
   },
   "source": [
    "You can see that there is a more general categorization described (roughly) by the first word of each category. Create a feature containing only these first words by splitting `MSSubClass` at the first underscore `_`. (Hint: In the `split` method use an argument `n=1`.)"
   ]
  },
  {
   "cell_type": "code",
   "execution_count": 9,
   "id": "3bb01a12",
   "metadata": {
    "execution": {
     "iopub.execute_input": "2022-06-28T17:21:42.030240Z",
     "iopub.status.busy": "2022-06-28T17:21:42.029842Z",
     "iopub.status.idle": "2022-06-28T17:21:42.057334Z",
     "shell.execute_reply": "2022-06-28T17:21:42.056480Z"
    },
    "lines_to_next_cell": 0,
    "papermill": {
     "duration": 0.038298,
     "end_time": "2022-06-28T17:21:42.059633",
     "exception": false,
     "start_time": "2022-06-28T17:21:42.021335",
     "status": "completed"
    },
    "tags": []
   },
   "outputs": [
    {
     "data": {
      "application/javascript": [
       "parent.postMessage({\"jupyterEvent\": \"custom.exercise_interaction\", \"data\": {\"outcomeType\": 1, \"valueTowardsCompletion\": 0.2, \"interactionType\": 1, \"questionType\": 2, \"questionId\": \"4_Q4\", \"learnToolsVersion\": \"0.3.4\", \"failureMessage\": \"\", \"exceptionClass\": \"\", \"trace\": \"\"}}, \"*\")"
      ],
      "text/plain": [
       "<IPython.core.display.Javascript object>"
      ]
     },
     "metadata": {},
     "output_type": "display_data"
    },
    {
     "data": {
      "text/markdown": [
       "<span style=\"color:#33cc33\">Correct</span>"
      ],
      "text/plain": [
       "Correct"
      ]
     },
     "metadata": {},
     "output_type": "display_data"
    }
   ],
   "source": [
    "X_4 = pd.DataFrame()\n",
    "\n",
    "# YOUR CODE HERE\n",
    "X_4['MSClass'] = df['MSSubClass'].str.split(\"_\", n = 1, expand = True)[0]\n",
    "\n",
    "# Check your answer\n",
    "q_4.check()"
   ]
  },
  {
   "cell_type": "code",
   "execution_count": 10,
   "id": "c1155e68",
   "metadata": {
    "execution": {
     "iopub.execute_input": "2022-06-28T17:21:42.077494Z",
     "iopub.status.busy": "2022-06-28T17:21:42.076478Z",
     "iopub.status.idle": "2022-06-28T17:21:42.081624Z",
     "shell.execute_reply": "2022-06-28T17:21:42.080637Z"
    },
    "lines_to_next_cell": 0,
    "papermill": {
     "duration": 0.016141,
     "end_time": "2022-06-28T17:21:42.083838",
     "exception": false,
     "start_time": "2022-06-28T17:21:42.067697",
     "status": "completed"
    },
    "tags": []
   },
   "outputs": [],
   "source": [
    "# Lines below will give you a hint or solution code\n",
    "#q_4.hint()\n",
    "#q_4.solution()"
   ]
  },
  {
   "cell_type": "markdown",
   "id": "dae6b427",
   "metadata": {
    "papermill": {
     "duration": 0.007183,
     "end_time": "2022-06-28T17:21:42.098712",
     "exception": false,
     "start_time": "2022-06-28T17:21:42.091529",
     "status": "completed"
    },
    "tags": []
   },
   "source": [
    "# 5) Use a Grouped Transform\n",
    "\n",
    "The value of a home often depends on how it compares to typical homes in its neighborhood. Create a feature `MedNhbdArea` that describes the *median* of `GrLivArea` grouped on `Neighborhood`."
   ]
  },
  {
   "cell_type": "code",
   "execution_count": 11,
   "id": "1c9a33f5",
   "metadata": {
    "execution": {
     "iopub.execute_input": "2022-06-28T17:21:42.117339Z",
     "iopub.status.busy": "2022-06-28T17:21:42.116598Z",
     "iopub.status.idle": "2022-06-28T17:21:42.135153Z",
     "shell.execute_reply": "2022-06-28T17:21:42.134080Z"
    },
    "lines_to_next_cell": 0,
    "papermill": {
     "duration": 0.030501,
     "end_time": "2022-06-28T17:21:42.137452",
     "exception": false,
     "start_time": "2022-06-28T17:21:42.106951",
     "status": "completed"
    },
    "tags": []
   },
   "outputs": [
    {
     "data": {
      "application/javascript": [
       "parent.postMessage({\"jupyterEvent\": \"custom.exercise_interaction\", \"data\": {\"outcomeType\": 1, \"valueTowardsCompletion\": 0.2, \"interactionType\": 1, \"questionType\": 2, \"questionId\": \"5_Q5\", \"learnToolsVersion\": \"0.3.4\", \"failureMessage\": \"\", \"exceptionClass\": \"\", \"trace\": \"\"}}, \"*\")"
      ],
      "text/plain": [
       "<IPython.core.display.Javascript object>"
      ]
     },
     "metadata": {},
     "output_type": "display_data"
    },
    {
     "data": {
      "text/markdown": [
       "<span style=\"color:#33cc33\">Correct</span>"
      ],
      "text/plain": [
       "Correct"
      ]
     },
     "metadata": {},
     "output_type": "display_data"
    }
   ],
   "source": [
    "X_5 = pd.DataFrame()\n",
    "\n",
    "# YOUR CODE HERE\n",
    "X_5[\"MedNhbdArea\"] = df.groupby('Neighborhood')['GrLivArea'].transform('median')\n",
    "\n",
    "# Check your answer\n",
    "q_5.check()"
   ]
  },
  {
   "cell_type": "code",
   "execution_count": 12,
   "id": "9c6782d0",
   "metadata": {
    "execution": {
     "iopub.execute_input": "2022-06-28T17:21:42.154804Z",
     "iopub.status.busy": "2022-06-28T17:21:42.154411Z",
     "iopub.status.idle": "2022-06-28T17:21:42.158840Z",
     "shell.execute_reply": "2022-06-28T17:21:42.157734Z"
    },
    "lines_to_next_cell": 0,
    "papermill": {
     "duration": 0.016207,
     "end_time": "2022-06-28T17:21:42.161432",
     "exception": false,
     "start_time": "2022-06-28T17:21:42.145225",
     "status": "completed"
    },
    "tags": []
   },
   "outputs": [],
   "source": [
    "# Lines below will give you a hint or solution code\n",
    "#q_5.hint()\n",
    "#q_5.solution()"
   ]
  },
  {
   "cell_type": "markdown",
   "id": "b9304d26",
   "metadata": {
    "papermill": {
     "duration": 0.008346,
     "end_time": "2022-06-28T17:21:42.178220",
     "exception": false,
     "start_time": "2022-06-28T17:21:42.169874",
     "status": "completed"
    },
    "tags": []
   },
   "source": [
    "Now you've made your first new feature set! If you like, you can run the cell below to score the model with all of your new features added:"
   ]
  },
  {
   "cell_type": "code",
   "execution_count": 13,
   "id": "98729461",
   "metadata": {
    "execution": {
     "iopub.execute_input": "2022-06-28T17:21:42.196187Z",
     "iopub.status.busy": "2022-06-28T17:21:42.195366Z",
     "iopub.status.idle": "2022-06-28T17:21:46.787441Z",
     "shell.execute_reply": "2022-06-28T17:21:46.786504Z"
    },
    "papermill": {
     "duration": 4.603727,
     "end_time": "2022-06-28T17:21:46.790024",
     "exception": false,
     "start_time": "2022-06-28T17:21:42.186297",
     "status": "completed"
    },
    "tags": []
   },
   "outputs": [
    {
     "data": {
      "text/plain": [
       "0.13847331710099203"
      ]
     },
     "execution_count": 13,
     "metadata": {},
     "output_type": "execute_result"
    }
   ],
   "source": [
    "X_new = X.join([X_1, X_2, X_3, X_4, X_5])\n",
    "score_dataset(X_new, y)"
   ]
  },
  {
   "cell_type": "markdown",
   "id": "45048d74",
   "metadata": {
    "papermill": {
     "duration": 0.007823,
     "end_time": "2022-06-28T17:21:46.806952",
     "exception": false,
     "start_time": "2022-06-28T17:21:46.799129",
     "status": "completed"
    },
    "tags": []
   },
   "source": [
    "# Keep Going #\n",
    "\n",
    "[**Untangle spatial relationships**](https://www.kaggle.com/ryanholbrook/clustering-with-k-means) by adding cluster labels to your dataset."
   ]
  },
  {
   "cell_type": "markdown",
   "id": "efbe582e",
   "metadata": {
    "papermill": {
     "duration": 0.007481,
     "end_time": "2022-06-28T17:21:46.822828",
     "exception": false,
     "start_time": "2022-06-28T17:21:46.815347",
     "status": "completed"
    },
    "tags": []
   },
   "source": [
    "---\n",
    "\n",
    "\n",
    "\n",
    "\n",
    "*Have questions or comments? Visit the [course discussion forum](https://www.kaggle.com/learn/feature-engineering/discussion) to chat with other learners.*"
   ]
  }
 ],
 "metadata": {
  "kernelspec": {
   "display_name": "Python 3",
   "language": "python",
   "name": "python3"
  },
  "language_info": {
   "codemirror_mode": {
    "name": "ipython",
    "version": 3
   },
   "file_extension": ".py",
   "mimetype": "text/x-python",
   "name": "python",
   "nbconvert_exporter": "python",
   "pygments_lexer": "ipython3",
   "version": "3.7.12"
  },
  "papermill": {
   "default_parameters": {},
   "duration": 17.232615,
   "end_time": "2022-06-28T17:21:47.552379",
   "environment_variables": {},
   "exception": null,
   "input_path": "__notebook__.ipynb",
   "output_path": "__notebook__.ipynb",
   "parameters": {},
   "start_time": "2022-06-28T17:21:30.319764",
   "version": "2.3.4"
  }
 },
 "nbformat": 4,
 "nbformat_minor": 5
}
